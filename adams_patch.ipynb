{
 "cells": [
  {
   "cell_type": "markdown",
   "metadata": {},
   "source": [
    "### Adam's Patch (Urban Gardening Problem)\n",
    "\n",
    "<img src=\"images/urban_gardening.jpg\" alt=\"https://fitt.co/pittsburgh/wp-content/uploads/sites/2/2015/06/urban-gardening-pittsburgh-.jpg\" width=\"400\">\n"
   ]
  },
  {
   "cell_type": "markdown",
   "metadata": {},
   "source": [
    "#### Problem Description\n",
    "\n",
    "<img src=\"images/adams_patch.png\" width=\"400\">\n",
    "\n",
    "**Goal:**\n",
    "- Cut a given region into vertical slices (A1, A2, A3, A4) where each resulting patch covers the same area and is separated by a strip of constant width.\n",
    "\n",
    "**Input:**\n",
    "- `region`... polygonal or otherwise specified region\n",
    "- `n_patches`... number of patches\n",
    "- `width_separator`... width of separation strips\n",
    "\n",
    "**Output:**\n",
    "- `locations`... x-coordinates of separating stripes (x1, x2, x3)"
   ]
  },
  {
   "cell_type": "code",
   "execution_count": null,
   "metadata": {
    "collapsed": true
   },
   "outputs": [],
   "source": []
  }
 ],
 "metadata": {
  "kernelspec": {
   "display_name": "Python 3",
   "language": "python",
   "name": "python3"
  },
  "language_info": {
   "codemirror_mode": {
    "name": "ipython",
    "version": 3
   },
   "file_extension": ".py",
   "mimetype": "text/x-python",
   "name": "python",
   "nbconvert_exporter": "python",
   "pygments_lexer": "ipython3",
   "version": "3.6.2"
  }
 },
 "nbformat": 4,
 "nbformat_minor": 2
}

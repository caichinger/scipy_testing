{
 "cells": [
  {
   "cell_type": "markdown",
   "metadata": {
    "slideshow": {
     "slide_type": "slide"
    }
   },
   "source": [
    "# doctest\n",
    "\n",
    "> Test interactive Python examples\n",
    "\n",
    "> The [doctest](https://docs.python.org/3/library/doctest.html) module searches for pieces of text that look like interactive Python sessions, and then executes those sessions to verify that they work exactly as shown. \n"
   ]
  },
  {
   "cell_type": "markdown",
   "metadata": {},
   "source": [
    "# doctest\n",
    "\n",
    "\n",
    "- Copy-paste your interactive example to obtain a test.\n",
    "\n",
    "\n",
    "- Serves both documentation and testing.\n",
    "\n",
    "\n",
    "- Very little API to learn.\n",
    "\n",
    "\n",
    "- Convenient solution for simple tests.\n",
    "\n",
    "\n",
    "- Does not hurt to delete it."
   ]
  },
  {
   "cell_type": "markdown",
   "metadata": {},
   "source": [
    "# Example"
   ]
  },
  {
   "cell_type": "code",
   "execution_count": 22,
   "metadata": {
    "collapsed": true
   },
   "outputs": [],
   "source": [
    "def multiply(a, b):\n",
    "    return a * b"
   ]
  },
  {
   "cell_type": "code",
   "execution_count": 23,
   "metadata": {},
   "outputs": [
    {
     "data": {
      "text/plain": [
       "2"
      ]
     },
     "execution_count": 23,
     "metadata": {},
     "output_type": "execute_result"
    }
   ],
   "source": [
    ">>> multiply(1, 2)"
   ]
  },
  {
   "cell_type": "code",
   "execution_count": 24,
   "metadata": {},
   "outputs": [
    {
     "data": {
      "text/plain": [
       "[3, 3, 3]"
      ]
     },
     "execution_count": 24,
     "metadata": {},
     "output_type": "execute_result"
    }
   ],
   "source": [
    ">>> multiply([3], 3)"
   ]
  },
  {
   "cell_type": "code",
   "execution_count": 25,
   "metadata": {},
   "outputs": [
    {
     "name": "stdout",
     "output_type": "stream",
     "text": [
      "Overwriting doctest/intro_0_multiply.py\n"
     ]
    }
   ],
   "source": [
    "%%writefile doctest/intro_0_multiply.py\n",
    "\n",
    "def multiply(a, b):\n",
    "    \"\"\"\n",
    "    >>> multiply(1, 2)\n",
    "    2\n",
    "    >>> multiply([3], 3)\n",
    "    [3, 3, 3]\n",
    "    \"\"\"\n",
    "    return a * b"
   ]
  },
  {
   "cell_type": "code",
   "execution_count": 26,
   "metadata": {},
   "outputs": [
    {
     "name": "stdout",
     "output_type": "stream",
     "text": [
      "Trying:\r\n",
      "    multiply(1, 2)\r\n",
      "Expecting:\r\n",
      "    2\r\n",
      "ok\r\n",
      "Trying:\r\n",
      "    multiply([3], 3)\r\n",
      "Expecting:\r\n",
      "    [3, 3, 3]\r\n",
      "ok\r\n",
      "1 items had no tests:\r\n",
      "    intro_0_multiply\r\n",
      "1 items passed all tests:\r\n",
      "   2 tests in intro_0_multiply.multiply\r\n",
      "2 tests in 2 items.\r\n",
      "2 passed and 0 failed.\r\n",
      "Test passed.\r\n"
     ]
    }
   ],
   "source": [
    "!python -m doctest doctest/intro_0_multiply.py -v"
   ]
  },
  {
   "cell_type": "code",
   "execution_count": 27,
   "metadata": {},
   "outputs": [
    {
     "name": "stdout",
     "output_type": "stream",
     "text": [
      "Overwriting doctest/intro_1_multiply.py\n"
     ]
    }
   ],
   "source": [
    "%%writefile doctest/intro_1_multiply.py\n",
    "\"\"\"\n",
    "Module documentation.\n",
    "This module provides the powerful `multiply` function.\n",
    "\n",
    ">>> multiply(1, 2)\n",
    "2\n",
    ">>> multiply([3], 3)\n",
    "[3, 3, 3]\n",
    "\"\"\"\n",
    "\n",
    "def multiply(a, b):\n",
    "    \"\"\"\n",
    "    >>> multiply(6, 7)\n",
    "    42   \n",
    "    \"\"\"\n",
    "    return a * b\n",
    "\n",
    "\n",
    "if __name__ == '__main__':\n",
    "    import doctest\n",
    "    doctest.testmod()"
   ]
  },
  {
   "cell_type": "code",
   "execution_count": 28,
   "metadata": {},
   "outputs": [
    {
     "name": "stdout",
     "output_type": "stream",
     "text": [
      "Trying:\r\n",
      "    multiply(1, 2)\r\n",
      "Expecting:\r\n",
      "    2\r\n",
      "ok\r\n",
      "Trying:\r\n",
      "    multiply([3], 3)\r\n",
      "Expecting:\r\n",
      "    [3, 3, 3]\r\n",
      "ok\r\n",
      "Trying:\r\n",
      "    multiply(6, 7)\r\n",
      "Expecting:\r\n",
      "    42   \r\n",
      "**********************************************************************\r\n",
      "File \"doctest/intro_1_multiply.py\", line 13, in __main__.multiply\r\n",
      "Failed example:\r\n",
      "    multiply(6, 7)\r\n",
      "Expected:\r\n",
      "    42   \r\n",
      "Got:\r\n",
      "    42\r\n",
      "1 items passed all tests:\r\n",
      "   2 tests in __main__\r\n",
      "**********************************************************************\r\n",
      "1 items had failures:\r\n",
      "   1 of   1 in __main__.multiply\r\n",
      "3 tests in 2 items.\r\n",
      "2 passed and 1 failed.\r\n",
      "***Test Failed*** 1 failures.\r\n"
     ]
    }
   ],
   "source": [
    "!python doctest/intro_1_multiply.py -v"
   ]
  },
  {
   "cell_type": "markdown",
   "metadata": {},
   "source": [
    "## Good to Know\n",
    "\n",
    "- **Which Docstrings?**\n",
    "  - All docstrings in the module (module, classes, functions)\n",
    "\n",
    "\n",
    "- **How are Docstrings recognized?**\n",
    "  - input: everything after `>>>` or `...` (multiline input)\n",
    "  - output: (if any) immediately input\n",
    "  \n",
    "\n",
    "- **Execution Context?**\n",
    "  - Shallow copy of module globals and names defined earlier in the docstring (no access to names in other docstrings).\n",
    "\n",
    "\n",
    "- **Comparison?**\n",
    "  - Literal"
   ]
  },
  {
   "cell_type": "markdown",
   "metadata": {},
   "source": [
    "## Good to Do\n",
    "\n",
    "- Dealing with blanklines in output:\n",
    "```python\n",
    ">>> print('1st line', '\\n', '2nd line')\n",
    "1st line\n",
    "<BLANKLINE>\n",
    "2nd line\n",
    "```\n",
    "\n",
    "- Dealing with whitespaces\n",
    "```python\n",
    ">>> [1, 2]  # doctest: +NORMALIZE_WHITESPACE\n",
    "[1,     2]\n",
    "```\n",
    "\n",
    "- Dealing with non-reproduceable output\n",
    "```python\n",
    ">>> class C: pass\n",
    ">>> C()  # doctest: +ELLIPSIS\n",
    "<__main__.C instance at 0x...>\n",
    "```\n",
    "\n",
    "- Dealing with tracebacks\n",
    "```python\n",
    ">>> raise NotImplementedError('o O')\n",
    "Traceback (most recent call last)\n",
    "...\n",
    "NotImplementedError: o O\n",
    "```\n",
    "\n"
   ]
  },
  {
   "cell_type": "markdown",
   "metadata": {},
   "source": [
    "# Exercises\n",
    "\n",
    "- Implement and doctest a function that computes the area under a curve using the trapezoidal rule. Pass a function and an array of *x values* as parameters.\n",
    "\n",
    "\n",
    "- Define *reliable*/working doctests for below functions."
   ]
  },
  {
   "cell_type": "code",
   "execution_count": 29,
   "metadata": {},
   "outputs": [
    {
     "name": "stdout",
     "output_type": "stream",
     "text": [
      "Overwriting doctest/exercises.py\n"
     ]
    }
   ],
   "source": [
    "%%writefile doctest/exercises.py\n",
    "\"\"\"\n",
    "Doctest Exercises.\n",
    "\"\"\"\n",
    "\n",
    "def fancy_plot():\n",
    "    fig, ax = plt.subplots()\n",
    "    ax.plot([1, 2])\n",
    "    return ax\n",
    "\n",
    "def unordered_return_value():\n",
    "    return {'b': 2, 'a': 1}\n",
    "\n",
    "def many_digit_number():\n",
    "    return 1/42\n",
    "\n",
    "def some_exception():\n",
    "    raise ZeroDivisionError('O.o')\n",
    "\n",
    "def multiply(a, b):\n",
    "    \"\"\"\n",
    "    Computes a * b\n",
    "    \n",
    "    >>> multiply(['A', 'B'], 2)\n",
    "    ['A', 'B',\n",
    "     'A', 'B']    \n",
    "    \"\"\"\n",
    "    return a * b"
   ]
  },
  {
   "cell_type": "markdown",
   "metadata": {},
   "source": [
    "# Solutions"
   ]
  },
  {
   "cell_type": "markdown",
   "metadata": {},
   "source": [
    "### Summary\n",
    "\n",
    "- Cheap and useful for both documentation and testing.\n",
    "\n",
    "\n",
    "- Aligns well with interactive development.\n",
    "\n",
    "\n",
    "- Several testrunners and documentation frameworks can execute doctests.\n",
    "\n",
    "\n",
    "- Does not target complex tests/tasks (no fixture management)."
   ]
  },
  {
   "cell_type": "code",
   "execution_count": null,
   "metadata": {
    "collapsed": true
   },
   "outputs": [],
   "source": []
  }
 ],
 "metadata": {
  "celltoolbar": "Slideshow",
  "kernelspec": {
   "display_name": "Python 3",
   "language": "python",
   "name": "python3"
  },
  "language_info": {
   "codemirror_mode": {
    "name": "ipython",
    "version": 3
   },
   "file_extension": ".py",
   "mimetype": "text/x-python",
   "name": "python",
   "nbconvert_exporter": "python",
   "pygments_lexer": "ipython3",
   "version": "3.6.2"
  }
 },
 "nbformat": 4,
 "nbformat_minor": 2
}

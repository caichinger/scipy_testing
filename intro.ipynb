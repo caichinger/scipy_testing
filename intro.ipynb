{
 "cells": [
  {
   "cell_type": "markdown",
   "metadata": {
    "slideshow": {
     "slide_type": "slide"
    }
   },
   "source": [
    "<center>\n",
    "  <header>\n",
    "    <h1>Testing in Scientific/Engineering Applications</h1>\n",
    "    <h3>Interactive vs? Test Driven Development</h3>\n",
    "  </header>\n",
    "<br>\n",
    "<font color=\"red\">pls clone & prepare: <a href=\"github.com/caichinger/scipy_testing\">github.com/caichinger/scipy_testing</a></font>\n",
    "<br>\n",
    "claus.aichinger@gmail.com\n",
    "<br>\n",
    "PyCon UK, 2017-10-29\n",
    "</center>"
   ]
  },
  {
   "cell_type": "markdown",
   "metadata": {
    "slideshow": {
     "slide_type": "slide"
    }
   },
   "source": [
    "### Workshop Objectives\n",
    "\n",
    "Primary Goal:\n",
    "\n",
    "> How can I integrate testing in my interactive development process?\n",
    "\n",
    "\n",
    "Non-Goal:\n",
    "\n",
    "> How can I do this or that kind of test or does this particular feature of *test work?\n",
    "\n"
   ]
  },
  {
   "cell_type": "markdown",
   "metadata": {
    "slideshow": {
     "slide_type": "slide"
    }
   },
   "source": [
    "### Agenda\n",
    "\n",
    "- Introduction\n",
    "  \n",
    "  - Some thoughts\n",
    "  - *Adam's Patch* (our problem for the day)\n",
    "  - Some more thoughts\n",
    "  - *Adam's Patch* revisited\n",
    "\n",
    "\n",
    "- Getting to know:\n",
    "  - engarde!\n",
    "  - doctest\n",
    "  - pytest\n",
    "  - hypothesis\n",
    "\n",
    "\n",
    "- *Adam's Patch* (again)"
   ]
  },
  {
   "cell_type": "markdown",
   "metadata": {
    "slideshow": {
     "slide_type": "slide"
    }
   },
   "source": [
    "## Interactive vs. Test Driven Development I\n",
    "\n",
    "**Interactive:**\n",
    "\n",
    "- Think of ideas and not of implementations\n",
    "\n",
    "- Everything right at your fingertips\n",
    "\n",
    "- (Too) fast (code complexity can increase immensely in a short period of time)\n",
    "\n",
    "- Manual verification is lost after each session\n",
    "\n",
    "\n",
    "**Test Driven Development:**\n",
    "\n",
    "- Forces you to think about what you expect\n",
    "\n",
    "- Requires/enforces a testable structure\n",
    "\n",
    "- (Initially) slower than interactive development\n",
    "\n",
    "- Manual verification is embedded in the code"
   ]
  },
  {
   "cell_type": "markdown",
   "metadata": {
    "slideshow": {
     "slide_type": "subslide"
    }
   },
   "source": [
    "### Test Driven Challenges\n",
    "\n",
    "- Testable code requires testable design\n",
    "\n",
    "\n",
    "- Good design is hard\n",
    "\n",
    "\n",
    "- Writing well designed code **and** solving a complex problem is even harder\n",
    "\n",
    "\n",
    "- Good Patterns Don't Come Naturally\n"
   ]
  },
  {
   "cell_type": "markdown",
   "metadata": {
    "slideshow": {
     "slide_type": "subslide"
    }
   },
   "source": [
    "## Interactive vs. Test Driven Development II\n",
    "\n",
    "**Fun:** Interactive <?> TDD (maybe Interactive > TDD until the first bug)\n",
    "\n",
    "**Speed:** Interactive > TDD\n",
    "\n",
    "**Reproducibility:** Interactive < TDD\n",
    "\n",
    "---\n",
    "\n",
    "**Goals:**\n",
    "- Turn manual verification into testable features.\n",
    "- Learn how to write (simple) tests\n",
    "- Implement testable features on the fly, i.e. along the way.\n"
   ]
  },
  {
   "cell_type": "markdown",
   "metadata": {
    "slideshow": {
     "slide_type": "subslide"
    }
   },
   "source": [
    "### Test Wording\n",
    "\n",
    "- Unit Test: to make sure units work correctly\n",
    "\n",
    "\n",
    "- Integration Test: to make sure that different units, i.e. components work together\n",
    "\n",
    "\n",
    "- End-to-End/Functional/System Test: to make sure that the entire system works\n",
    "\n",
    "\n",
    "- Setup: prepare what is needed for a test\n",
    "\n",
    "\n",
    "- Teardown: cleanup after a test\n",
    "\n",
    "\n",
    "- Fixture: functionality to make enable tests, e.g. setup and teardown\n"
   ]
  },
  {
   "cell_type": "markdown",
   "metadata": {
    "slideshow": {
     "slide_type": "slide"
    }
   },
   "source": [
    "# Exercise I\n",
    "\n",
    "> How would you solve the *Adam's Patch* problem?\n",
    "\n",
    "No coding!\n",
    "\n",
    "---\n",
    "10 minutes."
   ]
  },
  {
   "cell_type": "markdown",
   "metadata": {
    "slideshow": {
     "slide_type": "slide"
    }
   },
   "source": [
    "## What is a Program/Application?\n",
    "\n",
    "Very sloppy and very abstract:\n",
    "\n",
    "> A program (as well as every parts of it) is a function that maps a certain input to a certain output.\n",
    "\n",
    "> $f: \\textrm{input} \\to \\textrm{output}$\n",
    "\n",
    "To make sure a program works:\n",
    "\n",
    "> Check if for every input we get the correct output.\n",
    "\n",
    "Problems:\n",
    "- *Every* input usually not feasible (if not impossible at all)\n",
    "\n",
    "- *Output* not available (if it were, there would be no need to implement the program)"
   ]
  },
  {
   "cell_type": "markdown",
   "metadata": {
    "slideshow": {
     "slide_type": "subslide"
    }
   },
   "source": [
    "### What is a Test?\n",
    "\n",
    "Very sloppy and very abstract:\n",
    "\n",
    "> A test verifies (some) expectations about your program (function from above)"
   ]
  },
  {
   "cell_type": "markdown",
   "metadata": {
    "slideshow": {
     "slide_type": "subslide"
    }
   },
   "source": [
    "### In a Picture\n",
    "\n",
    "<img src=\"images/sketch_0__plain.png\" width=\"400\">\n"
   ]
  },
  {
   "cell_type": "markdown",
   "metadata": {
    "slideshow": {
     "slide_type": "subslide"
    }
   },
   "source": [
    "### In a Picture\n",
    "\n",
    "<img src=\"images/sketch_1__input.png\" width=\"400\">\n"
   ]
  },
  {
   "cell_type": "markdown",
   "metadata": {
    "slideshow": {
     "slide_type": "subslide"
    }
   },
   "source": [
    "### In a Picture\n",
    "\n",
    "<img src=\"images/sketch_2__value_test.png\" width=\"400\">\n"
   ]
  },
  {
   "cell_type": "markdown",
   "metadata": {
    "slideshow": {
     "slide_type": "subslide"
    }
   },
   "source": [
    "### In a Picture\n",
    "\n",
    "<img src=\"images/sketch_3__property_test.png\" width=\"400\">\n"
   ]
  },
  {
   "cell_type": "markdown",
   "metadata": {
    "slideshow": {
     "slide_type": "subslide"
    }
   },
   "source": [
    "### Questions to Ask (and Tools to Use)\n",
    "\n",
    "For each structure (component or set of components):\n",
    "\n",
    "\n",
    "- Which inputs are valid? How do they look like? What properties do they have?\n",
    "\n",
    "  → Tool: engarde\n",
    "\n",
    "\n",
    "- What are my test cases?\n",
    "\n",
    "  → Tool: doctest, pytest\n",
    "\n",
    "\n",
    "- (How) can I generalize the test cases? What do properties do I expect?\n",
    "\n",
    "  → Tool: hypothesis\n",
    "\n",
    "---\n",
    "\n",
    "**Tools:** verify expectations, be helpful in case of failures\n"
   ]
  },
  {
   "cell_type": "markdown",
   "metadata": {
    "slideshow": {
     "slide_type": "slide"
    }
   },
   "source": [
    "# Exercise II\n",
    "\n",
    "> Ask (and answer for) yourself above questions about the *Adam's Patch* problem?\n",
    "\n",
    "> How would you split the application into parts?\n",
    "\n",
    "> What test cases can you think of?\n",
    "\n",
    "\n",
    "No coding!\n",
    "\n",
    "---\n",
    "10 minutes.\n"
   ]
  },
  {
   "cell_type": "markdown",
   "metadata": {
    "slideshow": {
     "slide_type": "subslide"
    }
   },
   "source": [
    "### General Thoughts\n",
    "\n",
    "- Divide and Conquer\n",
    "\n",
    "\n",
    "- Split application into manageable parts\n",
    "\n",
    "\n",
    "- Complexity should resides in parts, not in the joints\n"
   ]
  },
  {
   "cell_type": "markdown",
   "metadata": {
    "slideshow": {
     "slide_type": "subslide"
    }
   },
   "source": [
    "#### Anticipated Building Blocks\n",
    "\n",
    "- Input parsing/specification: need to specify and represent input\n",
    "\n",
    "\n",
    "- Integration/Quadrature: need to compute areas, require *function* and *integration interval*\n",
    "\n",
    "\n",
    "- Optimization: need to compute suitable locations for separating strips, require *objective function*\n",
    "\n",
    "\n",
    "- Validation?: given a separation, is it valid?\n",
    "\n",
    "\n",
    "- Visualization?: *a picture is worth a thousand words*\n",
    "\n",
    "---\n",
    "\n",
    "Test Cases (e.g. (input, output) tuples):\n",
    "- Require data representation\n",
    "- Require API\n",
    "- You do not want this API to change to not break your test\n",
    "\n",
    "**Note:** you can define tests without knowing anything about the implementation"
   ]
  },
  {
   "cell_type": "markdown",
   "metadata": {
    "slideshow": {
     "slide_type": "slide"
    }
   },
   "source": [
    "# Solutions\n",
    "\n",
    "#### Specify In-/Output\n",
    "\n",
    "**Input:**\n",
    "- `region`... array of shape (n_nodes, 2)\n",
    "- `n_patches`... $\\in N_0$\n",
    "- `width_separator`... $\\in R_0^+$\n",
    "\n",
    "**Output:**\n",
    "- `locations`... x-coordinates of separating stripes\n",
    "\n",
    "**Test Cases:**\n",
    "- `n_patches` = 1\n",
    "- `n_patches` = 2 for box-like regions\n",
    "- `width_separator` too large to fit any patches\n",
    "- ...\n"
   ]
  },
  {
   "cell_type": "markdown",
   "metadata": {
    "slideshow": {
     "slide_type": "skip"
    }
   },
   "source": [
    "### Why (Automatic) Testing?\n",
    "\n",
    "- Ensure correctness (under specific circumstances)\n",
    "\n",
    "\n",
    "- Build trust\n",
    "\n",
    "\n",
    "- Document the system\n",
    "\n",
    "\n",
    "- Allow changes (and optimizations)\n",
    "\n",
    "---\n",
    "\n",
    "- Design?\n",
    "  - Tests force you to be explicit\n",
    "  - Tests can guide the development process\n",
    "  - Tests give feedback\n",
    "\n"
   ]
  },
  {
   "cell_type": "code",
   "execution_count": null,
   "metadata": {
    "collapsed": true
   },
   "outputs": [],
   "source": []
  }
 ],
 "metadata": {
  "celltoolbar": "Slideshow",
  "hide_input": false,
  "kernelspec": {
   "display_name": "Python 3",
   "language": "python",
   "name": "python3"
  },
  "language_info": {
   "codemirror_mode": {
    "name": "ipython",
    "version": 3
   },
   "file_extension": ".py",
   "mimetype": "text/x-python",
   "name": "python",
   "nbconvert_exporter": "python",
   "pygments_lexer": "ipython3",
   "version": "3.6.2"
  }
 },
 "nbformat": 4,
 "nbformat_minor": 2
}
